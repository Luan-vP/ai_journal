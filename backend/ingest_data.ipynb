{
 "cells": [
  {
   "cell_type": "code",
   "execution_count": 1,
   "metadata": {},
   "outputs": [
    {
     "ename": "ImportError",
     "evalue": "cannot import name 'component' from 'haystack' (/Users/luan/Developer/ai_journal/.venv/lib/python3.11/site-packages/haystack/__init__.py)",
     "output_type": "error",
     "traceback": [
      "\u001b[0;31m---------------------------------------------------------------------------\u001b[0m",
      "\u001b[0;31mImportError\u001b[0m                               Traceback (most recent call last)",
      "Cell \u001b[0;32mIn[1], line 1\u001b[0m\n\u001b[0;32m----> 1\u001b[0m \u001b[38;5;28;01mfrom\u001b[39;00m \u001b[38;5;21;01mnotion_haystack\u001b[39;00m \u001b[38;5;28;01mimport\u001b[39;00m NotionExporter\n\u001b[1;32m      2\u001b[0m \u001b[38;5;28;01mfrom\u001b[39;00m \u001b[38;5;21;01mhaystack\u001b[39;00m\u001b[38;5;21;01m.\u001b[39;00m\u001b[38;5;21;01mdocument_stores\u001b[39;00m\u001b[38;5;21;01m.\u001b[39;00m\u001b[38;5;21;01min_memory\u001b[39;00m \u001b[38;5;28;01mimport\u001b[39;00m InMemoryDocumentStore\n\u001b[1;32m      3\u001b[0m \u001b[38;5;28;01mfrom\u001b[39;00m \u001b[38;5;21;01mhaystack\u001b[39;00m \u001b[38;5;28;01mimport\u001b[39;00m Pipeline\n",
      "File \u001b[0;32m~/Developer/ai_journal/.venv/lib/python3.11/site-packages/notion_haystack/__init__.py:1\u001b[0m\n\u001b[0;32m----> 1\u001b[0m \u001b[38;5;28;01mfrom\u001b[39;00m \u001b[38;5;21;01m.\u001b[39;00m\u001b[38;5;21;01mnotion_exporter\u001b[39;00m \u001b[38;5;28;01mimport\u001b[39;00m NotionExporter\n",
      "File \u001b[0;32m~/Developer/ai_journal/.venv/lib/python3.11/site-packages/notion_haystack/notion_exporter.py:5\u001b[0m\n\u001b[1;32m      3\u001b[0m \u001b[38;5;28;01mfrom\u001b[39;00m \u001b[38;5;21;01mnotion_exporter\u001b[39;00m \u001b[38;5;28;01mimport\u001b[39;00m NotionExporter \u001b[38;5;28;01mas\u001b[39;00m _NotionExporter\n\u001b[1;32m      4\u001b[0m \u001b[38;5;28;01mimport\u001b[39;00m \u001b[38;5;21;01mfrontmatter\u001b[39;00m\n\u001b[0;32m----> 5\u001b[0m \u001b[38;5;28;01mfrom\u001b[39;00m \u001b[38;5;21;01mhaystack\u001b[39;00m \u001b[38;5;28;01mimport\u001b[39;00m component  \n\u001b[1;32m      6\u001b[0m \u001b[38;5;28;01mfrom\u001b[39;00m \u001b[38;5;21;01mhaystack\u001b[39;00m\u001b[38;5;21;01m.\u001b[39;00m\u001b[38;5;21;01mdataclasses\u001b[39;00m \u001b[38;5;28;01mimport\u001b[39;00m Document\n\u001b[1;32m      8\u001b[0m \u001b[38;5;28;01mfrom\u001b[39;00m \u001b[38;5;21;01m.\u001b[39;00m\u001b[38;5;21;01m_custom_yaml_handler\u001b[39;00m \u001b[38;5;28;01mimport\u001b[39;00m CustomYAMLHandler\n",
      "\u001b[0;31mImportError\u001b[0m: cannot import name 'component' from 'haystack' (/Users/luan/Developer/ai_journal/.venv/lib/python3.11/site-packages/haystack/__init__.py)"
     ]
    }
   ],
   "source": [
    "from notion_haystack import NotionExporter\n",
    "from haystack.document_stores.in_memory import InMemoryDocumentStore\n",
    "from haystack import Pipeline\n",
    "\n",
    "document_store = InMemoryDocumentStore()\n",
    "exporter = NotionExporter(api_token=\"<your-token>\")\n",
    "\n",
    "indexing_pipeline = Pipeline()\n",
    "indexing_pipeline.add_node(\n",
    "    component=exporter, name=\"exporter\", inputs=[\"File\"])\n",
    "indexing_pipeline.add_node(\n",
    "    component=document_store, name=\"document_store\", inputs=[\"exporter\"]\n",
    ")\n",
    "indexing_pipeline.run(file_paths=[\"<list-of-page-ids>\"])\n",
    "\n",
    "# The pages will now be indexed in the document store"
   ]
  }
 ],
 "metadata": {
  "kernelspec": {
   "display_name": ".venv",
   "language": "python",
   "name": "python3"
  },
  "language_info": {
   "codemirror_mode": {
    "name": "ipython",
    "version": 3
   },
   "file_extension": ".py",
   "mimetype": "text/x-python",
   "name": "python",
   "nbconvert_exporter": "python",
   "pygments_lexer": "ipython3",
   "version": "3.11.6"
  }
 },
 "nbformat": 4,
 "nbformat_minor": 2
}
