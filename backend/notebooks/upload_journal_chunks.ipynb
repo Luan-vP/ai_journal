{
 "cells": [
  {
   "cell_type": "code",
   "execution_count": null,
   "metadata": {},
   "outputs": [],
   "source": [
    "import os\n",
    "import re\n",
    "import sys\n",
    "from pathlib import Path\n",
    "from uuid import uuid4\n",
    "\n",
    "import weaviate\n",
    "import weaviate.classes.config as wvcc\n",
    "from weaviate.classes.config import Configure\n",
    "from weaviate.util import get_valid_uuid\n",
    "\n",
    "from ai_journal.storage import example_data_location, read_user_data\n",
    "from ai_journal.text import read_and_chunk_files, chunk_list, split_into_sentences\n",
    "\n",
    "client = weaviate.connect_to_local(host=\"localhost\")"
   ]
  },
  {
   "cell_type": "code",
   "execution_count": null,
   "metadata": {},
   "outputs": [],
   "source": [
    "client.collections.delete_all()"
   ]
  },
  {
   "cell_type": "code",
   "execution_count": null,
   "metadata": {},
   "outputs": [],
   "source": [
    "collection = client.collections.create(\n",
    "    name=\"WeaviateJournalChunk\",\n",
    "    vectorizer_config=[\n",
    "        Configure.NamedVectors.text2vec_ollama(\n",
    "            name=\"title_vector\",\n",
    "            source_properties=[\"title\"],\n",
    "            # If using Docker, use this to contact your local Ollama instance\n",
    "            api_endpoint=\"http://host.docker.internal:11434\",\n",
    "            model=\"llama3:8b\",  # The model to use, e.g. \"nomic-embed-text\"\n",
    "        )\n",
    "    ],\n",
    "    generative_config=Configure.Generative.ollama(\n",
    "        api_endpoint=\"http://host.docker.internal:11434\"\n",
    "    ),\n",
    "    properties=[\n",
    "        wvcc.Property(name=\"content\", data_type=wvcc.DataType.TEXT),\n",
    "        wvcc.Property(name=\"author\", data_type=wvcc.DataType.TEXT),\n",
    "    ],\n",
    ")"
   ]
  },
  {
   "cell_type": "code",
   "execution_count": null,
   "metadata": {},
   "outputs": [],
   "source": [
    "# Example usage\n",
    "journal_chunks = read_and_chunk_files(example_data_location)"
   ]
  },
  {
   "cell_type": "code",
   "execution_count": null,
   "metadata": {},
   "outputs": [],
   "source": [
    "len(journal_chunks)\n",
    "\n",
    "journal_chunks[0]"
   ]
  },
  {
   "cell_type": "code",
   "execution_count": null,
   "metadata": {},
   "outputs": [],
   "source": [
    "journal_collection = client.collections.get(\"WeaviateJournalChunk\")\n",
    "\n",
    "for idx, journal_chunk in enumerate(journal_chunks):\n",
    "    upload = journal_collection.data.insert(properties={\"content\": journal_chunk})\n",
    "\n",
    "print(f\"Uploaded {idx} journal chunks.\")"
   ]
  }
 ],
 "metadata": {
  "kernelspec": {
   "display_name": ".venv",
   "language": "python",
   "name": "python3"
  },
  "language_info": {
   "codemirror_mode": {
    "name": "ipython",
    "version": 3
   },
   "file_extension": ".py",
   "mimetype": "text/x-python",
   "name": "python",
   "nbconvert_exporter": "python",
   "pygments_lexer": "ipython3",
   "version": "3.12.3"
  }
 },
 "nbformat": 4,
 "nbformat_minor": 2
}
