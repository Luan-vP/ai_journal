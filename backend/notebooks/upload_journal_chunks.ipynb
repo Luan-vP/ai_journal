{
 "cells": [
  {
   "cell_type": "code",
   "execution_count": null,
   "metadata": {},
   "outputs": [],
   "source": [
    "import weaviate\n",
    "from weaviate.embedded import EmbeddedOptions\n",
    "\n",
    "client = weaviate.WeaviateClient(\n",
    "    embedded_options=EmbeddedOptions(\n",
    "        additional_env_vars={\n",
    "            \"ENABLE_MODULES\": \"text2vec-ollama,generative-ollama\",\n",
    "            \"BACKUP_FILESYSTEM_PATH\": \"/tmp/backups\",\n",
    "            # \"PERSISTENCE_DATA_PATH\":  ## Set this to a test mount filesystem for the tests\n",
    "        }\n",
    "    )\n",
    "    # Add additional options here (see Python client docs for syntax)\n",
    ")\n",
    "\n",
    "client.connect()"
   ]
  },
  {
   "cell_type": "code",
   "execution_count": null,
   "metadata": {},
   "outputs": [],
   "source": [
    "from ai_journal.storage import user_data_location\n",
    "from ai_journal.text import read_and_chunk_files"
   ]
  },
  {
   "cell_type": "code",
   "execution_count": null,
   "metadata": {},
   "outputs": [],
   "source": [
    "client.collections.delete_all()"
   ]
  },
  {
   "cell_type": "code",
   "execution_count": null,
   "metadata": {},
   "outputs": [],
   "source": [
    "# Example usage\n",
    "journal_chunks = read_and_chunk_files(user_data_location)"
   ]
  },
  {
   "cell_type": "code",
   "execution_count": null,
   "metadata": {},
   "outputs": [],
   "source": [
    "len(journal_chunks)\n",
    "\n",
    "journal_chunks[0]"
   ]
  },
  {
   "cell_type": "code",
   "execution_count": null,
   "metadata": {},
   "outputs": [],
   "source": [
    "journal_collection = client.collections.get(\"WeaviateJournalChunks\")\n",
    "\n",
    "for idx, journal_chunk in enumerate(journal_chunks):\n",
    "    upload = journal_collection.data.insert(properties={\"content\": journal_chunk})\n",
    "\n",
    "print(f\"Uploaded {idx} journal chunks.\")"
   ]
  }
 ],
 "metadata": {
  "kernelspec": {
   "display_name": ".venv",
   "language": "python",
   "name": "python3"
  },
  "language_info": {
   "codemirror_mode": {
    "name": "ipython",
    "version": 3
   },
   "file_extension": ".py",
   "mimetype": "text/x-python",
   "name": "python",
   "nbconvert_exporter": "python",
   "pygments_lexer": "ipython3",
   "version": "3.12.7"
  }
 },
 "nbformat": 4,
 "nbformat_minor": 2
}
