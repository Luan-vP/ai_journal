{
 "cells": [
  {
   "cell_type": "code",
   "execution_count": 3,
   "metadata": {},
   "outputs": [],
   "source": [
    "import dspy\n",
    "\n",
    "lm = dspy.OllamaLocal(model=\"llama3\", base_url=\"http://localhost:11434\")\n",
    "\n",
    "dspy.settings.configure(lm=lm)"
   ]
  },
  {
   "cell_type": "code",
   "execution_count": 5,
   "metadata": {},
   "outputs": [
    {
     "name": "stdout",
     "output_type": "stream",
     "text": [
      "Here is the generated text:\n",
      "\n",
      "---\n",
      "Journal Entry: I think I have been angry about the ways I've been treated in my family system. I need some tools to help myself calm down in the heat of the moment.\n",
      "Therapeutic Advice: It sounds like you're recognizing a pattern of anger related to your family dynamics. To develop self-regulation skills, consider practicing mindfulness techniques, such as deep breathing or progressive muscle relaxation, when feeling overwhelmed. Additionally, identifying and labeling your emotions can help you better manage them in the future. Consider keeping an emotional journal or talking to a trusted friend or therapist about your experiences.\n"
     ]
    }
   ],
   "source": [
    "create_post_analysis = dspy.Predict(\"journal_entry -> therapeutic_advice\")\n",
    "\n",
    "journal_entry = \"I think I have been angry about the ways I've been treated in my family system. I need some tools to help myself calm downin the heat of the moment.\"\n",
    "\n",
    "response = create_post_analysis(journal_entry=journal_entry)\n",
    "\n",
    "print(response.therapeutic_advice)"
   ]
  }
 ],
 "metadata": {
  "kernelspec": {
   "display_name": ".venv",
   "language": "python",
   "name": "python3"
  },
  "language_info": {
   "codemirror_mode": {
    "name": "ipython",
    "version": 3
   },
   "file_extension": ".py",
   "mimetype": "text/x-python",
   "name": "python",
   "nbconvert_exporter": "python",
   "pygments_lexer": "ipython3",
   "version": "3.12.3"
  }
 },
 "nbformat": 4,
 "nbformat_minor": 2
}
