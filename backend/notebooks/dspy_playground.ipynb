{
 "cells": [
  {
   "cell_type": "code",
   "execution_count": null,
   "metadata": {},
   "outputs": [],
   "source": [
    "import dspy\n",
    "\n",
    "lm = dspy.OllamaLocal(model=\"llama3\", base_url=\"http://localhost:11434\")\n",
    "\n",
    "dspy.settings.configure(lm=lm)"
   ]
  },
  {
   "cell_type": "code",
   "execution_count": null,
   "metadata": {},
   "outputs": [],
   "source": [
    "create_post_analysis = dspy.Predict(\"journal_entry -> therapeutic_advice\")\n",
    "\n",
    "journal_entry = \"I think I have been angry about the ways I've been treated in my family system. I need some tools to help myself calm downin the heat of the moment.\"\n",
    "\n",
    "response = create_post_analysis(journal_entry=journal_entry)\n",
    "\n",
    "print(response.therapeutic_advice)"
   ]
  },
  {
   "cell_type": "code",
   "execution_count": null,
   "metadata": {},
   "outputs": [],
   "source": [
    "import weaviate\n",
    "import dspy\n",
    "from dspy.retrieve.weaviate_rm import WeaviateRM\n",
    "import contextlib\n",
    "\n",
    "import os\n",
    "\n",
    "WEAVIATE_COLLECTION_NAME = (\n",
    "        os.getenv(\"WEAVIATE_COLLECTION_NAME\") or \"WeaviateJournalChunks\"\n",
    "    )\n",
    "WEAVIATE_HOST = os.getenv(\"WEAVIATE_HOST\") or \"localhost\"\n",
    "\n",
    "def get_collection():\n",
    "\n",
    "    client = weaviate.connect_to_local(host=WEAVIATE_HOST)\n",
    "    collection = client.collections.get(WEAVIATE_COLLECTION_NAME)\n",
    "\n",
    "    try:\n",
    "        yield collection\n",
    "    finally:\n",
    "        client.close()\n",
    "\n",
    "@contextlib.contextmanager\n",
    "def get_weaviate_client():\n",
    "    client = weaviate.connect_to_local(host=WEAVIATE_HOST)\n",
    "\n",
    "    try:\n",
    "        yield client\n",
    "    finally:\n",
    "        client.close()\n",
    "\n",
    "with get_weaviate_client() as weaviate_client:\n",
    "\n",
    "\n",
    "    retriever_model = WeaviateRM(\n",
    "        weaviate_collection_name=WEAVIATE_COLLECTION_NAME,\n",
    "        weaviate_client=weaviate_client \n",
    "    )\n",
    "\n",
    "    results = retriever_model(\"Explore the significance of quantum computing\", k=2)\n",
    "\n",
    "    for result in results:\n",
    "        print(\"Document:\", result.long_text, \"\\n\")"
   ]
  },
  {
   "cell_type": "code",
   "execution_count": null,
   "metadata": {},
   "outputs": [],
   "source": [
    "weaviate_client.close()"
   ]
  }
 ],
 "metadata": {
  "kernelspec": {
   "display_name": ".venv",
   "language": "python",
   "name": "python3"
  },
  "language_info": {
   "codemirror_mode": {
    "name": "ipython",
    "version": 3
   },
   "file_extension": ".py",
   "mimetype": "text/x-python",
   "name": "python",
   "nbconvert_exporter": "python",
   "pygments_lexer": "ipython3",
   "version": "3.12.7"
  }
 },
 "nbformat": 4,
 "nbformat_minor": 2
}
