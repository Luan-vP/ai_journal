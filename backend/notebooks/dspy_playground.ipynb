{
 "cells": [
  {
   "cell_type": "code",
   "execution_count": null,
   "metadata": {},
   "outputs": [],
   "source": [
    "import dspy\n",
    "\n",
    "lm = dspy.OllamaLocal(model=\"llama3\", base_url=\"http://localhost:11434\")\n",
    "\n",
    "dspy.settings.configure(lm=lm)"
   ]
  },
  {
   "cell_type": "code",
   "execution_count": null,
   "metadata": {},
   "outputs": [],
   "source": [
    "create_post_analysis = dspy.Predict(\"journal_entry -> therapeutic_advice\")\n",
    "\n",
    "journal_entry = \"I think I have been angry about the ways I've been treated in my family system. I need some tools to help myself calm downin the heat of the moment.\"\n",
    "\n",
    "response = create_post_analysis(journal_entry=journal_entry)\n",
    "\n",
    "print(response.therapeutic_advice)"
   ]
  }
 ],
 "metadata": {
  "kernelspec": {
   "display_name": ".venv",
   "language": "python",
   "name": "python3"
  },
  "language_info": {
   "codemirror_mode": {
    "name": "ipython",
    "version": 3
   },
   "file_extension": ".py",
   "mimetype": "text/x-python",
   "name": "python",
   "nbconvert_exporter": "python",
   "pygments_lexer": "ipython3",
   "version": "3.12.3"
  }
 },
 "nbformat": 4,
 "nbformat_minor": 2
}
